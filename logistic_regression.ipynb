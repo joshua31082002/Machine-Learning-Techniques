{
 "cells": [
  {
   "cell_type": "code",
   "execution_count": 1,
   "metadata": {},
   "outputs": [],
   "source": [
    "import numpy as np"
   ]
  },
  {
   "cell_type": "code",
   "execution_count": null,
   "metadata": {},
   "outputs": [],
   "source": [
    "def lin_comb(X,w):\n",
    "    return X@w"
   ]
  },
  {
   "cell_type": "code",
   "execution_count": 1,
   "metadata": {},
   "outputs": [],
   "source": [
    "def sigmoid(z):\n",
    "    exp_vec = np.exp(-z)\n",
    "    one_vec = np.ones(z.shape[0])\n",
    "    return 1/(one_vec+exp_vec)"
   ]
  },
  {
   "cell_type": "code",
   "execution_count": 3,
   "metadata": {},
   "outputs": [],
   "source": [
    "def predict(X,w,threshold = 0.5):\n",
    "    prob = sigmoid(lin_comb(X,w))\n",
    "    result = np.array()\n",
    "    for val in prob:\n",
    "        if val<threshold:\n",
    "            np.append(result,0)\n",
    "        else:\n",
    "            np.append(result,1)\n",
    "    return result\n"
   ]
  },
  {
   "cell_type": "code",
   "execution_count": 4,
   "metadata": {},
   "outputs": [],
   "source": [
    "def calc_loss(X,y,w,l1_r,l2_r):\n",
    "    sig_vec = sigmoid(lin_comb(X,w))\n",
    "    loss_val = -np.sum((y*np.log(sig_vec)) + ((1-y)*np.log(1-sig_vec)))\n",
    "    l1_r_val = 0.5*l1_r*np.sum(np.abs(w))\n",
    "    l2_r_val = 0.5*l2_r*np.sum(np.dot(w,w))\n",
    "    return loss_val + l1_r_val + l2_r_val"
   ]
  },
  {
   "cell_type": "code",
   "execution_count": null,
   "metadata": {},
   "outputs": [],
   "source": []
  },
  {
   "cell_type": "code",
   "execution_count": null,
   "metadata": {},
   "outputs": [],
   "source": [
    "def grad_descent(X,y,epochs,l_rate,r_rate):\n",
    "    w = np.zeros(X.shape[1])\n",
    "    for i in range(epochs):\n",
    "        dj_dw = np.transpose(X)@(sigmoid(lin_comb(X,w))-y) + r_rate*w\n",
    "        w = w - l_rate*dj_dw"
   ]
  }
 ],
 "metadata": {
  "kernelspec": {
   "display_name": "Python 3.8.10 64-bit",
   "language": "python",
   "name": "python3"
  },
  "language_info": {
   "codemirror_mode": {
    "name": "ipython",
    "version": 3
   },
   "file_extension": ".py",
   "mimetype": "text/x-python",
   "name": "python",
   "nbconvert_exporter": "python",
   "pygments_lexer": "ipython3",
   "version": "3.8.10"
  },
  "orig_nbformat": 4,
  "vscode": {
   "interpreter": {
    "hash": "916dbcbb3f70747c44a77c7bcd40155683ae19c65e1c03b4aa3499c5328201f1"
   }
  }
 },
 "nbformat": 4,
 "nbformat_minor": 2
}
