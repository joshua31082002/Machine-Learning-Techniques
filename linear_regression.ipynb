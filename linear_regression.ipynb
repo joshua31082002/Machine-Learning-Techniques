{
 "cells": [
  {
   "cell_type": "code",
   "execution_count": 1,
   "metadata": {},
   "outputs": [],
   "source": [
    "import numpy as np\n",
    "import matplotlib.pyplot as plt\n",
    "import seaborn as sns"
   ]
  },
  {
   "cell_type": "markdown",
   "metadata": {},
   "source": [
    "Adding dummy feature on features"
   ]
  },
  {
   "cell_type": "code",
   "execution_count": 2,
   "metadata": {},
   "outputs": [],
   "source": [
    "def add_dummy_feature(X):\n",
    "    ones_col = np.ones(X.shape[0])\n",
    "    X = np.column_stack([ones_col,X])\n",
    "    return X"
   ]
  },
  {
   "cell_type": "code",
   "execution_count": 3,
   "metadata": {},
   "outputs": [],
   "source": [
    "def pred(X,w):\n",
    "    return X@w"
   ]
  },
  {
   "cell_type": "code",
   "execution_count": 4,
   "metadata": {},
   "outputs": [],
   "source": [
    "def calc_loss(X,y,w):\n",
    "    e = pred(X,w) - y\n",
    "    loss = 0.5*((np.transpose(e)) @ e)  \n",
    "    return loss"
   ]
  },
  {
   "cell_type": "code",
   "execution_count": 5,
   "metadata": {},
   "outputs": [
    {
     "name": "stdout",
     "output_type": "stream",
     "text": [
      "(2,)\n"
     ]
    }
   ],
   "source": [
    "w = np.array([6,5])\n",
    "n = 100\n",
    "print(w.shape)"
   ]
  },
  {
   "cell_type": "code",
   "execution_count": 6,
   "metadata": {},
   "outputs": [
    {
     "name": "stdout",
     "output_type": "stream",
     "text": [
      "(100, 2)\n"
     ]
    }
   ],
   "source": [
    "X = 10*np.random.rand(n)\n",
    "X = add_dummy_feature(X)\n",
    "print(X.shape)"
   ]
  },
  {
   "cell_type": "code",
   "execution_count": 7,
   "metadata": {},
   "outputs": [
    {
     "name": "stdout",
     "output_type": "stream",
     "text": [
      "[[56.20978771]\n",
      " [30.03910583]\n",
      " [39.7085661 ]\n",
      " [28.6530587 ]\n",
      " [15.67095296]\n",
      " [49.74059467]\n",
      " [35.73177601]\n",
      " [37.01775384]\n",
      " [18.34288659]\n",
      " [57.49318314]\n",
      " [27.53585781]\n",
      " [45.34783224]\n",
      " [52.61747722]\n",
      " [65.23376258]\n",
      " [58.54837239]\n",
      " [41.15703375]\n",
      " [28.33463938]\n",
      " [15.97201327]\n",
      " [33.41920534]\n",
      " [42.26573425]\n",
      " [57.29037976]\n",
      " [12.44072855]\n",
      " [48.38821884]\n",
      " [21.96203279]\n",
      " [51.94113047]\n",
      " [34.81206301]\n",
      " [35.25946606]\n",
      " [55.13439988]\n",
      " [32.43456732]\n",
      " [26.04411883]\n",
      " [26.1012986 ]\n",
      " [32.86796495]\n",
      " [50.86782775]\n",
      " [37.66172607]\n",
      " [35.76332401]\n",
      " [42.64237042]\n",
      " [56.83942621]\n",
      " [16.85541332]\n",
      " [27.56672934]\n",
      " [19.01847447]\n",
      " [57.77843281]\n",
      " [19.07584477]\n",
      " [60.76572088]\n",
      " [21.41194499]\n",
      " [30.31087721]\n",
      " [42.66916435]\n",
      " [15.25547836]\n",
      " [49.82299555]\n",
      " [50.89646493]\n",
      " [55.85034711]\n",
      " [15.63791641]\n",
      " [16.80372714]\n",
      " [62.47280991]\n",
      " [29.61768062]\n",
      " [33.72448251]\n",
      " [12.1071921 ]\n",
      " [52.94422544]\n",
      " [45.36987883]\n",
      " [58.47239413]\n",
      " [38.48335675]\n",
      " [ 8.90756402]\n",
      " [16.2772394 ]\n",
      " [28.58872451]\n",
      " [33.54640038]\n",
      " [53.38563977]\n",
      " [55.53630909]\n",
      " [15.29811786]\n",
      " [47.09786257]\n",
      " [12.1093621 ]\n",
      " [58.54353472]\n",
      " [33.88143713]\n",
      " [26.33921036]\n",
      " [60.56898144]\n",
      " [40.35975978]\n",
      " [24.18532177]\n",
      " [43.85644467]\n",
      " [28.2440235 ]\n",
      " [53.90826338]\n",
      " [49.5579211 ]\n",
      " [32.70651364]\n",
      " [40.77306416]\n",
      " [53.52756235]\n",
      " [22.81672785]\n",
      " [33.44092362]\n",
      " [46.08939501]\n",
      " [37.39831244]\n",
      " [54.16308191]\n",
      " [27.11419172]\n",
      " [38.76076629]\n",
      " [56.27763262]\n",
      " [16.58840088]\n",
      " [42.14712198]\n",
      " [52.34224842]\n",
      " [45.55701745]\n",
      " [30.82097007]\n",
      " [42.89751089]\n",
      " [45.42784443]\n",
      " [31.54128074]\n",
      " [35.80985608]\n",
      " [20.46534999]]\n"
     ]
    }
   ],
   "source": [
    "noise = np.column_stack([10*np.random.rand(n)])\n",
    "y_pred = np.column_stack([pred(X,w)])\n",
    "y = y_pred + noise\n",
    "print(y)"
   ]
  },
  {
   "cell_type": "code",
   "execution_count": 8,
   "metadata": {},
   "outputs": [],
   "source": [
    "from sklearn.model_selection import train_test_split"
   ]
  },
  {
   "cell_type": "code",
   "execution_count": 9,
   "metadata": {},
   "outputs": [],
   "source": [
    "X_train, X_test, y_train, y_test = train_test_split(X, y, test_size=0.2, random_state=58)"
   ]
  }
 ],
 "metadata": {
  "kernelspec": {
   "display_name": "Python 3.8.10 64-bit",
   "language": "python",
   "name": "python3"
  },
  "language_info": {
   "codemirror_mode": {
    "name": "ipython",
    "version": 3
   },
   "file_extension": ".py",
   "mimetype": "text/x-python",
   "name": "python",
   "nbconvert_exporter": "python",
   "pygments_lexer": "ipython3",
   "version": "3.8.10"
  },
  "orig_nbformat": 4,
  "vscode": {
   "interpreter": {
    "hash": "916dbcbb3f70747c44a77c7bcd40155683ae19c65e1c03b4aa3499c5328201f1"
   }
  }
 },
 "nbformat": 4,
 "nbformat_minor": 2
}
