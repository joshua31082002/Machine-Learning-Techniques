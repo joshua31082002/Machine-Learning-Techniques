{
 "cells": [
  {
   "cell_type": "code",
   "execution_count": 1,
   "metadata": {},
   "outputs": [
    {
     "name": "stdout",
     "output_type": "stream",
     "text": [
      "30\n"
     ]
    }
   ],
   "source": [
    "import numpy as np\n",
    "vec1 = np.array([1,2,3,4])\n",
    "\n",
    "print(vec1.dot(np.transpose(vec1)))"
   ]
  },
  {
   "cell_type": "code",
   "execution_count": 14,
   "metadata": {},
   "outputs": [
    {
     "name": "stdout",
     "output_type": "stream",
     "text": [
      "[[0.24273608 0.98986573 0.08525235 0.79368841 0.84963422]\n",
      " [0.92586704 0.72880409 0.94888061 0.03560561 0.25952191]\n",
      " [0.80568963 0.42740875 0.93090018 0.95601005 0.42477948]\n",
      " [0.80974697 0.76957984 0.74471281 0.19830202 0.50752429]]\n",
      "\n",
      "1\n"
     ]
    }
   ],
   "source": [
    "vec2 = np.random.random((4,5))\n",
    "print(vec2)\n",
    "print()\n",
    "print(np.argmax(vec2))"
   ]
  },
  {
   "cell_type": "code",
   "execution_count": 15,
   "metadata": {},
   "outputs": [
    {
     "name": "stdout",
     "output_type": "stream",
     "text": [
      "[[1 3 5]\n",
      " [2 4 6]]\n"
     ]
    }
   ],
   "source": [
    "import numpy as np\n",
    "v1=np.array([1,2])\n",
    "v2=np.array([3,4])\n",
    "v3=np.array([5,6])\n",
    "v4=np.column_stack([v1,v2,v3])\n",
    "print(v4)"
   ]
  },
  {
   "cell_type": "code",
   "execution_count": 61,
   "metadata": {},
   "outputs": [
    {
     "data": {
      "text/plain": [
       "array([[1., 1., 8., 1., 1., 8.],\n",
       "       [1., 5., 2., 5., 5., 2.],\n",
       "       [1., 2., 0., 2., 2., 0.]])"
      ]
     },
     "execution_count": 61,
     "metadata": {},
     "output_type": "execute_result"
    }
   ],
   "source": [
    "import itertools as it\n",
    "import numpy as np\n",
    "\n",
    "def get_combinations(X,r):\n",
    "    return it.combinations_with_replacement(X,r)\n",
    "\n",
    "def poly_trans(X,degree):\n",
    "    length = len(X)\n",
    "    X = np.transpose(X)\n",
    "    result = np.ones(length)\n",
    "    for r in range(1,degree+1):\n",
    "        possible_combinations = get_combinations(X,r)\n",
    "\n",
    "        for combination in possible_combinations:\n",
    "            combination, x_appended= np.array([combination[0]]), np.ones(length)\n",
    "\n",
    "            for col in combination:\n",
    "                x_appended = x_appended * col\n",
    "            result = np.column_stack([result,x_appended])\n",
    "    \n",
    "    return result\n",
    "X = np.array([[1,8],[5,2],[2,0]])\n",
    "poly_trans(X,2)"
   ]
  },
  {
   "cell_type": "code",
   "execution_count": 8,
   "metadata": {},
   "outputs": [
    {
     "data": {
      "text/plain": [
       "30"
      ]
     },
     "execution_count": 8,
     "metadata": {},
     "output_type": "execute_result"
    }
   ],
   "source": [
    "import numpy as np\n",
    "a = np.array([-11,12,-3,4])\n",
    "np.sum(np.abs(a))"
   ]
  }
 ],
 "metadata": {
  "kernelspec": {
   "display_name": "Python 3.8.10 64-bit",
   "language": "python",
   "name": "python3"
  },
  "language_info": {
   "codemirror_mode": {
    "name": "ipython",
    "version": 3
   },
   "file_extension": ".py",
   "mimetype": "text/x-python",
   "name": "python",
   "nbconvert_exporter": "python",
   "pygments_lexer": "ipython3",
   "version": "3.8.10"
  },
  "orig_nbformat": 4,
  "vscode": {
   "interpreter": {
    "hash": "916dbcbb3f70747c44a77c7bcd40155683ae19c65e1c03b4aa3499c5328201f1"
   }
  }
 },
 "nbformat": 4,
 "nbformat_minor": 2
}
