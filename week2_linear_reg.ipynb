{
 "cells": [
  {
   "cell_type": "code",
   "execution_count": 9,
   "metadata": {},
   "outputs": [],
   "source": [
    "import numpy as np\n",
    "import matplotlib.pyplot as plt\n",
    "import seaborn as sns"
   ]
  },
  {
   "cell_type": "code",
   "execution_count": 10,
   "metadata": {},
   "outputs": [],
   "source": [
    "def add_dummy_feature(X):\n",
    "    ones_col = np.ones(X.shape[0])\n",
    "    X = np.column_stack([ones_col,X])\n",
    "    return X"
   ]
  },
  {
   "cell_type": "code",
   "execution_count": 11,
   "metadata": {},
   "outputs": [],
   "source": [
    "def predict(X,w):\n",
    "    return X@w"
   ]
  },
  {
   "cell_type": "code",
   "execution_count": 12,
   "metadata": {},
   "outputs": [
    {
     "name": "stdout",
     "output_type": "stream",
     "text": [
      "(2,)\n"
     ]
    }
   ],
   "source": [
    "w = np.array([6,5])\n",
    "n = 100\n",
    "print(w.shape)"
   ]
  },
  {
   "cell_type": "code",
   "execution_count": 13,
   "metadata": {},
   "outputs": [
    {
     "name": "stdout",
     "output_type": "stream",
     "text": [
      "(100, 2)\n"
     ]
    }
   ],
   "source": [
    "X = 10*np.random.rand(n)\n",
    "X = add_dummy_feature(X)\n",
    "print(X.shape)"
   ]
  },
  {
   "cell_type": "code",
   "execution_count": 26,
   "metadata": {},
   "outputs": [
    {
     "name": "stdout",
     "output_type": "stream",
     "text": [
      "[[37.77113657]\n",
      " [23.56871198]\n",
      " [38.57504971]\n",
      " [59.49785314]\n",
      " [19.74493329]\n",
      " [50.78928517]\n",
      " [44.61153925]\n",
      " [49.59757458]\n",
      " [41.3365315 ]\n",
      " [12.56439525]\n",
      " [56.15112773]\n",
      " [32.70671873]\n",
      " [55.79624014]\n",
      " [36.64511969]\n",
      " [55.20345061]\n",
      " [50.58064246]\n",
      " [46.54429632]\n",
      " [55.02706386]\n",
      " [21.67941533]\n",
      " [36.8332065 ]\n",
      " [43.42213192]\n",
      " [16.79899359]\n",
      " [22.82051788]\n",
      " [49.30372971]\n",
      " [39.19839028]\n",
      " [18.29954083]\n",
      " [58.60205178]\n",
      " [12.62914342]\n",
      " [36.61103361]\n",
      " [29.70711458]\n",
      " [35.8791227 ]\n",
      " [62.63041762]\n",
      " [61.07393788]\n",
      " [17.21568076]\n",
      " [34.11696314]\n",
      " [32.67249593]\n",
      " [23.11954336]\n",
      " [48.38721608]\n",
      " [15.79687268]\n",
      " [21.67262645]\n",
      " [42.63057724]\n",
      " [45.55753287]\n",
      " [35.80298201]\n",
      " [49.46612353]\n",
      " [27.08722985]\n",
      " [25.91198184]\n",
      " [37.50772071]\n",
      " [32.40045816]\n",
      " [18.14698794]\n",
      " [14.13209815]\n",
      " [23.13878889]\n",
      " [22.712917  ]\n",
      " [59.96639717]\n",
      " [23.86258225]\n",
      " [24.75970245]\n",
      " [14.58089174]\n",
      " [40.65358395]\n",
      " [35.50100932]\n",
      " [16.63412073]\n",
      " [18.25424048]\n",
      " [30.96205954]\n",
      " [34.46368816]\n",
      " [23.09110561]\n",
      " [24.9106844 ]\n",
      " [20.65565436]\n",
      " [53.82436932]\n",
      " [26.64340869]\n",
      " [58.17830514]\n",
      " [45.59071392]\n",
      " [47.41472616]\n",
      " [25.85591737]\n",
      " [26.64685871]\n",
      " [49.90280186]\n",
      " [31.37537999]\n",
      " [33.80012503]\n",
      " [18.68762204]\n",
      " [24.73587623]\n",
      " [30.9618738 ]\n",
      " [29.26977892]\n",
      " [16.22340447]\n",
      " [32.34900785]\n",
      " [48.32674148]\n",
      " [13.27357178]\n",
      " [55.01211974]\n",
      " [56.57193541]\n",
      " [40.04427407]\n",
      " [21.56784489]\n",
      " [36.20461913]\n",
      " [53.66576589]\n",
      " [37.93754657]\n",
      " [18.75259679]\n",
      " [28.31650811]\n",
      " [37.92325465]\n",
      " [37.67487306]\n",
      " [20.77108136]\n",
      " [36.62097328]\n",
      " [17.84443263]\n",
      " [28.48407794]\n",
      " [21.3067001 ]\n",
      " [36.38277245]]\n"
     ]
    }
   ],
   "source": [
    "noise = np.column_stack([10*np.random.rand(n)])\n",
    "y_predict = np.column_stack([predict(X,w)])\n",
    "y = y_predict + noise\n",
    "print(y)"
   ]
  },
  {
   "cell_type": "code",
   "execution_count": 15,
   "metadata": {},
   "outputs": [],
   "source": [
    "from sklearn.model_selection import train_test_split"
   ]
  },
  {
   "cell_type": "code",
   "execution_count": 16,
   "metadata": {},
   "outputs": [],
   "source": [
    "X_train, X_test, y_train, y_test = train_test_split(X, y, test_size=0.2, random_state=58)"
   ]
  },
  {
   "cell_type": "code",
   "execution_count": 35,
   "metadata": {},
   "outputs": [
    {
     "name": "stdout",
     "output_type": "stream",
     "text": [
      "[6]\n"
     ]
    }
   ],
   "source": [
    "a,b = np.array([1,2,3,4]) , np.array([5,6,7,8])\n",
    "ab = a+b\n"
   ]
  }
 ],
 "metadata": {
  "kernelspec": {
   "display_name": "Python 3.8.10 64-bit",
   "language": "python",
   "name": "python3"
  },
  "language_info": {
   "codemirror_mode": {
    "name": "ipython",
    "version": 3
   },
   "file_extension": ".py",
   "mimetype": "text/x-python",
   "name": "python",
   "nbconvert_exporter": "python",
   "pygments_lexer": "ipython3",
   "version": "3.8.10"
  },
  "orig_nbformat": 4,
  "vscode": {
   "interpreter": {
    "hash": "916dbcbb3f70747c44a77c7bcd40155683ae19c65e1c03b4aa3499c5328201f1"
   }
  }
 },
 "nbformat": 4,
 "nbformat_minor": 2
}
